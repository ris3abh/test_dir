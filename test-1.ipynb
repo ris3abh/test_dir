{
 "cells": [
  {
   "cell_type": "markdown",
   "metadata": {},
   "source": [
    "question 1"
   ]
  },
  {
   "cell_type": "markdown",
   "metadata": {},
   "source": [
    "```x = 5\n",
    "if x > 3:\n",
    "    print(\"A\")\n",
    "elif x == 5:\n",
    "    print(\"B\")\n",
    "else:\n",
    "    print(\"C\")```"
   ]
  },
  {
   "cell_type": "markdown",
   "metadata": {},
   "source": [
    "A"
   ]
  },
  {
   "cell_type": "markdown",
   "metadata": {},
   "source": [
    "question 2"
   ]
  },
  {
   "cell_type": "code",
   "execution_count": null,
   "metadata": {},
   "outputs": [],
   "source": [
    "result = 10 / 3"
   ]
  },
  {
   "cell_type": "markdown",
   "metadata": {},
   "source": [
    "a) Integer\n",
    "b) Float\n",
    "c) Boolean\n",
    "d) String"
   ]
  },
  {
   "cell_type": "code",
   "execution_count": null,
   "metadata": {
    "vscode": {
     "languageId": "latex"
    }
   },
   "outputs": [],
   "source": [
    "Float"
   ]
  },
  {
   "cell_type": "markdown",
   "metadata": {},
   "source": [
    "Question 3: what will be the output of the following code?"
   ]
  },
  {
   "cell_type": "markdown",
   "metadata": {
    "vscode": {
     "languageId": "raw"
    }
   },
   "source": [
    "```\n",
    "x = 10\n",
    "if x > 15:\n",
    "    print(\"Greater\")\n",
    "elif x > 5:\n",
    "    print(\"Smaller\")\n",
    "else:\n",
    "    print(\"Equal\")\n",
    "```"
   ]
  },
  {
   "cell_type": "raw",
   "metadata": {
    "vscode": {
     "languageId": "raw"
    }
   },
   "source": [
    "Smaller"
   ]
  },
  {
   "cell_type": "markdown",
   "metadata": {},
   "source": [
    "Question 4: Given the code below, what will be printed?\n",
    "\n",
    "```\n",
    "if 2 + 2 == 5:\n",
    "    print(\"Correct\")\n",
    "else:\n",
    "    print(\"Wrong\")\n",
    "```"
   ]
  },
  {
   "cell_type": "markdown",
   "metadata": {},
   "source": [
    "Wrong"
   ]
  },
  {
   "cell_type": "markdown",
   "metadata": {},
   "source": [
    "question 5: How can you check if an element exists in a list?\n",
    "\n",
    "```\n",
    "a) if element in list:\n",
    "b) if element exist list:\n",
    "c) if element in: list\n",
    "d) if exists(list, element):\n",
    "```"
   ]
  },
  {
   "cell_type": "raw",
   "metadata": {
    "vscode": {
     "languageId": "raw"
    }
   },
   "source": [
    "A"
   ]
  },
  {
   "cell_type": "markdown",
   "metadata": {},
   "source": [
    "question 6: What will be the output of the following code?\n",
    "\n",
    "```\n",
    "\n",
    "x = 10\n",
    "y = \"10\"\n",
    "print(x == y)\n",
    "```"
   ]
  },
  {
   "cell_type": "markdown",
   "metadata": {},
   "source": []
  },
  {
   "cell_type": "raw",
   "metadata": {
    "vscode": {
     "languageId": "raw"
    }
   },
   "source": [
    "False"
   ]
  },
  {
   "cell_type": "markdown",
   "metadata": {
    "vscode": {
     "languageId": "raw"
    }
   },
   "source": [
    "Question 7: What will be the output of the following code?\n",
    "\n",
    "```\n",
    "a = [1, 2, 3]\n",
    "a[0] = 5\n",
    "print(a)\n",
    "```"
   ]
  },
  {
   "cell_type": "raw",
   "metadata": {
    "vscode": {
     "languageId": "raw"
    }
   },
   "source": [
    "1"
   ]
  },
  {
   "cell_type": "markdown",
   "metadata": {},
   "source": [
    "Question 8:What is the difference between = and == in Python?"
   ]
  },
  {
   "cell_type": "raw",
   "metadata": {
    "vscode": {
     "languageId": "raw"
    }
   },
   "source": [
    "== for Comparison\n",
    "= Assign a value"
   ]
  },
  {
   "cell_type": "markdown",
   "metadata": {},
   "source": [
    "Question 9: Which of the following code snippets will raise an error?\n",
    "\n",
    "```\n",
    "a) print(\"Hello\" + \"World\")\n",
    "b) print(5 + \"World\")\n",
    "c) print(5 + 10)\n",
    "d) print(\"5\" + \"10\")\n",
    "```"
   ]
  },
  {
   "cell_type": "raw",
   "metadata": {
    "vscode": {
     "languageId": "raw"
    }
   },
   "source": [
    "C"
   ]
  },
  {
   "cell_type": "markdown",
   "metadata": {},
   "source": [
    "s"
   ]
  }
 ],
 "metadata": {
  "kernelspec": {
   "display_name": "Python 3",
   "language": "python",
   "name": "python3"
  },
  "language_info": {
   "name": "python",
   "version": "3.10.6"
  }
 },
 "nbformat": 4,
 "nbformat_minor": 2
}
