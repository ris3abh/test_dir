{
 "cells": [
  {
   "cell_type": "markdown",
   "metadata": {},
   "source": [
    "question 1"
   ]
  },
  {
   "cell_type": "markdown",
   "metadata": {},
   "source": [
    "```x = 5\n",
    "if x > 3:\n",
    "    print(\"A\")\n",
    "elif x == 5:\n",
    "    print(\"B\")\n",
    "else:\n",
    "    print(\"C\")```"
   ]
  },
  {
   "cell_type": "markdown",
   "metadata": {},
   "source": [
    "A"
   ]
  },
  {
   "cell_type": "markdown",
   "metadata": {},
   "source": [
    "question 2"
   ]
  },
  {
   "cell_type": "code",
   "execution_count": null,
   "metadata": {},
   "outputs": [],
   "source": [
    "result = 10 / 3"
   ]
  },
  {
   "cell_type": "markdown",
   "metadata": {},
   "source": [
    "a) Integer\n",
    "b) Float\n",
    "c) Boolean\n",
    "d) String"
   ]
  },
  {
   "cell_type": "code",
   "execution_count": null,
   "metadata": {
    "vscode": {
     "languageId": "latex"
    }
   },
   "outputs": [],
   "source": [
    "Float"
   ]
  },
  {
   "cell_type": "markdown",
   "metadata": {},
   "source": [
    "Question 3: what will be the output of the following code?"
   ]
  },
  {
   "cell_type": "markdown",
   "metadata": {
    "vscode": {
     "languageId": "raw"
    }
   },
   "source": [
    "```\n",
    "x = 10\n",
    "if x > 15:\n",
    "    print(\"Greater\")\n",
    "elif x > 5:\n",
    "    print(\"Smaller\")\n",
    "else:\n",
    "    print(\"Equal\")\n",
    "```"
   ]
  },
  {
   "cell_type": "raw",
   "metadata": {
    "vscode": {
     "languageId": "raw"
    }
   },
   "source": [
    "Smaller"
   ]
  },
  {
   "cell_type": "markdown",
   "metadata": {},
   "source": [
    "Question 4: Given the code below, what will be printed?\n",
    "\n",
    "```\n",
    "if 2 + 2 == 5:\n",
    "    print(\"Correct\")\n",
    "else:\n",
    "    print(\"Wrong\")\n",
    "```"
   ]
  },
  {
   "cell_type": "markdown",
   "metadata": {},
   "source": [
    "Wrong"
   ]
  }
 ],
 "metadata": {
  "kernelspec": {
   "display_name": "Python 3",
   "language": "python",
   "name": "python3"
  },
  "language_info": {
   "name": "python",
   "version": "3.10.6"
  }
 },
 "nbformat": 4,
 "nbformat_minor": 2
}
